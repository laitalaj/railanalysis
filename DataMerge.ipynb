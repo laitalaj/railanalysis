{
 "cells": [
  {
   "cell_type": "markdown",
   "metadata": {},
   "source": [
    "# Merging the rail network and population density datasets"
   ]
  },
  {
   "cell_type": "markdown",
   "metadata": {},
   "source": [
    "## Check that the required datasets exist\n",
    "\n",
    "The datasets required are `nerails_simplified.graphml` and `popdensity.csv` have been created"
   ]
  },
  {
   "cell_type": "code",
   "execution_count": 1,
   "metadata": {},
   "outputs": [
    {
     "name": "stdout",
     "output_type": "stream",
     "text": [
      "ok\n",
      "ok\n"
     ]
    }
   ],
   "source": [
    "from os import path\n",
    "\n",
    "data_folder = 'data'\n",
    "rails_name = path.join(data_folder, 'nerails_simplified.graphml')\n",
    "pop_name = path.join(data_folder, 'popdensity.csv')\n",
    "\n",
    "if path.exists(rails_name):\n",
    "    print('ok')\n",
    "else: \n",
    "    print('not found:', rails_name)\n",
    "    \n",
    "if path.exists(pop_name):\n",
    "    print('ok')\n",
    "else: \n",
    "    print('not found:', pop_name)"
   ]
  },
  {
   "cell_type": "markdown",
   "metadata": {},
   "source": [
    "## Add population data to nodes"
   ]
  },
  {
   "cell_type": "code",
   "execution_count": 2,
   "metadata": {},
   "outputs": [
    {
     "name": "stdout",
     "output_type": "stream",
     "text": [
      "Result saved\n"
     ]
    }
   ],
   "source": [
    "from os import path\n",
    "import numpy as np\n",
    "import osmnx as ox\n",
    "import pandas as pd\n",
    "from pyproj import CRS, Transformer\n",
    "\n",
    "crs_etrs = CRS.from_string('EPSG:3035')\n",
    "crs_latlon = CRS.from_string('EPSG:4326')\n",
    "from_latlon = Transformer.from_crs(crs_latlon, crs_etrs)\n",
    "ox.config(log_console = True, data_folder = 'data')\n",
    "\n",
    "data_folder = 'data'\n",
    "rails_src = 'nerails_simplified.graphml'\n",
    "pop_src = path.join(data_folder, 'popdensity.csv')\n",
    "\n",
    "graph = ox.load_graphml(rails_src)\n",
    "pop_data = pd.read_csv(pop_src)\n",
    "pop_data['northing'] = pop_data['northing'].floordiv(1000)\n",
    "pop_data['easting'] = pop_data['easting'].floordiv(1000)\n",
    "\n",
    "def pop_for_coords(lat, lon):\n",
    "    northing, easting = map(lambda n: round(n / 1000), from_latlon.transform(lat, lon))\n",
    "    pop = pop_data.loc[\n",
    "        (pop_data['northing'] == northing) & (pop_data['easting'] == easting)\n",
    "    ]['pop']\n",
    "    return pop.iloc[0] if pop.size == 1 else np.int32(0)\n",
    "    \n",
    "for n in graph.nodes:\n",
    "    node = graph.nodes[n]\n",
    "    node['population'] = pop_for_coords(node['y'], node['x'])\n",
    "    \n",
    "ox.save_graphml(graph, 'nerails_with_pop.graphml')\n",
    "print('Result saved')"
   ]
  },
  {
   "cell_type": "markdown",
   "metadata": {},
   "source": [
    "## Node examples"
   ]
  },
  {
   "cell_type": "code",
   "execution_count": 3,
   "metadata": {},
   "outputs": [
    {
     "name": "stdout",
     "output_type": "stream",
     "text": [
      "0\n",
      "0\n",
      "2187\n",
      "0\n",
      "0\n",
      "3456\n",
      "596\n",
      "0\n",
      "184\n",
      "0\n"
     ]
    }
   ],
   "source": [
    "from os import path\n",
    "import osmnx as ox\n",
    "import random\n",
    "\n",
    "ox.config(log_console = True, data_folder = 'data')\n",
    "src = 'nerails_with_pop.graphml'\n",
    "graph = ox.load_graphml(src)\n",
    "nodes = graph.nodes\n",
    "random.seed(0)\n",
    "\n",
    "for node in random.sample(nodes, 10):\n",
    "    print(nodes[node]['population'])"
   ]
  },
  {
   "cell_type": "code",
   "execution_count": null,
   "metadata": {},
   "outputs": [],
   "source": []
  }
 ],
 "metadata": {
  "kernelspec": {
   "display_name": "Python [conda env:railanalysis] *",
   "language": "python",
   "name": "conda-env-railanalysis-py"
  },
  "language_info": {
   "codemirror_mode": {
    "name": "ipython",
    "version": 3
   },
   "file_extension": ".py",
   "mimetype": "text/x-python",
   "name": "python",
   "nbconvert_exporter": "python",
   "pygments_lexer": "ipython3",
   "version": "3.8.1"
  }
 },
 "nbformat": 4,
 "nbformat_minor": 4
}
