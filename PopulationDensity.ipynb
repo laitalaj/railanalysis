{
 "cells": [
  {
   "cell_type": "markdown",
   "metadata": {},
   "source": [
    "# Population density"
   ]
  },
  {
   "cell_type": "markdown",
   "metadata": {},
   "source": [
    "## Download data\n",
    "Source: https://ec.europa.eu/eurostat/web/gisco/geodata/reference-data/population-distribution-demography/geostat\n"
   ]
  },
  {
   "cell_type": "code",
   "execution_count": 3,
   "metadata": {},
   "outputs": [],
   "source": [
    "from urllib import request\n",
    "from os import path\n",
    "\n",
    "data_dir = 'data'\n",
    "url = 'http://ec.europa.eu/eurostat/cache/GISCO/geodatafiles/GEOSTAT-grid-POP-1K-2011-V2-0-1.zip'\n",
    "dst = path.join(data_dir, 'compressed', 'popdensity.zip')\n",
    "res = request.urlopen(url)\n",
    "with open(dst, 'wb') as f:\n",
    "    f.write(res.read())"
   ]
  },
  {
   "cell_type": "markdown",
   "metadata": {},
   "source": [
    "## Transform raw data"
   ]
  },
  {
   "cell_type": "code",
   "execution_count": 28,
   "metadata": {},
   "outputs": [],
   "source": [
    "from os import path\n",
    "import pandas as pd\n",
    "import numpy as np\n",
    "import re\n",
    "from pyproj import CRS, Transformer\n",
    "\n",
    "data_dir = 'data'\n",
    "src_name = path.join(data_dir, 'popdensity_raw.csv')\n",
    "dst_name = path.join(data_dir, 'popdensity.csv')\n",
    "\n",
    "crs_src = CRS.from_string('EPSG:3035')\n",
    "crs_dst = CRS.from_string('EPSG:4326')\n",
    "trans = Transformer.from_crs(crs_src,crs_dst)\n",
    "\n",
    "if not path.exists(dst_name):\n",
    "    df = pd.read_csv(src_name)\n",
    "    df.drop(['CNTR_CODE','METHD_CL','YEAR','DATA_SRC','TOT_P_CON_DT'], axis='columns', inplace=True)\n",
    "    pop = np.empty(len(df.index), np.int32)\n",
    "    lats = np.empty(len(df.index), np.float32)\n",
    "    longs = np.empty(len(df.index), np.float32)\n",
    "    for i, row in df.iterrows():\n",
    "        s = row['GRD_ID']\n",
    "        n = int(s[-9:-5]) * 1000\n",
    "        e = int(s[-4:]) * 1000\n",
    "        lat, lon = trans.transform(n, e)\n",
    "        pop[i] = np.int32(row['TOT_P'])\n",
    "        lats[i] = np.float32(lat)\n",
    "        longs[i] = np.float32(lon)\n",
    "    res = pd.DataFrame({\n",
    "        'pop': pop,\n",
    "        'lat': lats,\n",
    "        'lon': longs\n",
    "    })\n",
    "    res.to_csv(dst_name, index=False)\n",
    "else:\n",
    "    print('Transformed data already exists!')"
   ]
  }
 ],
 "metadata": {
  "file_extension": ".py",
  "kernelspec": {
   "display_name": "Python 3",
   "language": "python",
   "name": "python3"
  },
  "language_info": {
   "codemirror_mode": {
    "name": "ipython",
    "version": 3
   },
   "file_extension": ".py",
   "mimetype": "text/x-python",
   "name": "python",
   "nbconvert_exporter": "python",
   "pygments_lexer": "ipython3",
   "version": "3.8.1"
  },
  "mimetype": "text/x-python",
  "name": "python",
  "npconvert_exporter": "python",
  "pygments_lexer": "ipython3",
  "version": 3
 },
 "nbformat": 4,
 "nbformat_minor": 2
}
