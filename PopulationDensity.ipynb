{
 "cells": [
  {
   "cell_type": "markdown",
   "metadata": {},
   "source": [
    "# Population density"
   ]
  },
  {
   "cell_type": "markdown",
   "metadata": {},
   "source": [
    "## Download and unzip data\n",
    "\n",
    "Source: https://ec.europa.eu/eurostat/web/gisco/geodata/reference-data/population-distribution-demography/geostat"
   ]
  },
  {
   "cell_type": "code",
   "execution_count": 1,
   "metadata": {},
   "outputs": [
    {
     "name": "stdout",
     "output_type": "stream",
     "text": [
      "Done!\n"
     ]
    }
   ],
   "source": [
    "from urllib import request\n",
    "from os import path\n",
    "from zipfile import ZipFile\n",
    "\n",
    "data_dir = 'data'\n",
    "url = 'http://ec.europa.eu/eurostat/cache/GISCO/geodatafiles/GEOSTAT-grid-POP-1K-2011-V2-0-1.zip'\n",
    "zip_dst = path.join(data_dir, 'compressed', 'popdensity.zip')\n",
    "ds_path = 'Version 2_0_1/GEOSTAT_grid_POP_1K_2011_V2_0_1.csv'\n",
    "csv_dst = path.join(data_dir, 'popdensity_raw.csv')\n",
    "if not path.exists(zip_dst):\n",
    "    res = request.urlopen(url)\n",
    "    with open(zip_dst, 'wb') as zf:\n",
    "        zf.write(res.read())\n",
    "if not path.exists(csv_dst):\n",
    "    with ZipFile(zip_dst).open(ds_path, 'r') as ds:\n",
    "        with open(csv_dst, 'wb') as dst:\n",
    "            dst.write(ds.read())\n",
    "print('Done!')"
   ]
  },
  {
   "cell_type": "markdown",
   "metadata": {},
   "source": [
    "## Transform raw data\n",
    "\n",
    "The format of the source data is ETRS89/LAEA in 1km squares, where the data point is the bottom left corner of the square. Note that the points are transformed from km offset to m offset"
   ]
  },
  {
   "cell_type": "code",
   "execution_count": 2,
   "metadata": {},
   "outputs": [
    {
     "name": "stdout",
     "output_type": "stream",
     "text": [
      "pop,northing,easting\n",
      " 8,2689000,4337000\n",
      " 7,2689000,4341000\n",
      " 3,2690000,4341000\n",
      " 3,2691000,4340000\n",
      "\n"
     ]
    }
   ],
   "source": [
    "from os import path\n",
    "import pandas as pd\n",
    "import numpy as np\n",
    "\n",
    "data_dir = 'data'\n",
    "src_name = path.join(data_dir, 'popdensity_raw.csv')\n",
    "dst_name = path.join(data_dir, 'popdensity.csv')\n",
    "\n",
    "if not path.exists(dst_name):\n",
    "    df = pd.read_csv(src_name, low_memory=False)\n",
    "    df.drop(['CNTR_CODE','METHD_CL','YEAR','DATA_SRC','TOT_P_CON_DT'], axis='columns', inplace=True)\n",
    "    pop, N, E = (np.empty(len(df.index), np.int32) for _ in range(3))\n",
    "    for i, row in df.iterrows():\n",
    "        s = row['GRD_ID']\n",
    "        n = np.int32(s[-9:-5]) * 1000 # km to m\n",
    "        e = np.int32(s[-4:]) * 1000\n",
    "        pop[i] = np.int32(row['TOT_P'])\n",
    "        N[i] = n\n",
    "        E[i] = e\n",
    "    res = pd.DataFrame({\n",
    "        'pop': pop,\n",
    "        'northing': N,\n",
    "        'easting': E\n",
    "    })\n",
    "    res.to_csv(dst_name, index=False)\n",
    "with open(dst_name) as f:\n",
    "    print(*[next(f) for x in range(5)])"
   ]
  },
  {
   "cell_type": "markdown",
   "metadata": {},
   "source": [
    "## Mapping the data between formats\n",
    "\n",
    "`to_latlon` and `from_latlon` can be used to map between the source format and latitude/longitude."
   ]
  },
  {
   "cell_type": "code",
   "execution_count": 3,
   "metadata": {},
   "outputs": [
    {
     "data": {
      "text/plain": [
       "(4.99999999456415, 5.000000000000003)"
      ]
     },
     "execution_count": 3,
     "metadata": {},
     "output_type": "execute_result"
    }
   ],
   "source": [
    "from pyproj import CRS, Transformer\n",
    "\n",
    "crs_etrs = CRS.from_string('EPSG:3035')\n",
    "crs_latlon = CRS.from_string('EPSG:4326')\n",
    "transformer_to_latlon = Transformer.from_crs(crs_etrs, crs_latlon)\n",
    "transformer_from_latlon = Transformer.from_crs(crs_latlon, crs_etrs)\n",
    "\n",
    "def to_latlon(north, east): return transformer_to_latlon.transform(north, east)\n",
    "def from_latlon(lat, lon): return transformer_from_latlon.transform(lat, lon)\n",
    "\n",
    "to_latlon(*from_latlon(5,5))"
   ]
  }
 ],
 "metadata": {
  "file_extension": ".py",
  "kernelspec": {
   "display_name": "Python 3",
   "language": "python",
   "name": "python3"
  },
  "language_info": {
   "codemirror_mode": {
    "name": "ipython",
    "version": 3
   },
   "file_extension": ".py",
   "mimetype": "text/x-python",
   "name": "python",
   "nbconvert_exporter": "python",
   "pygments_lexer": "ipython3",
   "version": "3.8.1"
  },
  "mimetype": "text/x-python",
  "name": "python",
  "npconvert_exporter": "python",
  "pygments_lexer": "ipython3",
  "version": 3
 },
 "nbformat": 4,
 "nbformat_minor": 2
}
