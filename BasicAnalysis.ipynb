{
 "cells": [
  {
   "cell_type": "markdown",
   "metadata": {},
   "source": [
    "## Configure osmnx and import things"
   ]
  },
  {
   "cell_type": "code",
   "execution_count": 1,
   "metadata": {},
   "outputs": [],
   "source": [
    "import osmnx as ox\n",
    "ox.config(log_console = True, data_folder = 'data')\n",
    "graph = ox.load_graphml('nerails_simplified.graphml')"
   ]
  },
  {
   "cell_type": "code",
   "execution_count": 2,
   "metadata": {},
   "outputs": [],
   "source": [
    "import numpy as np\n",
    "import networkx as nx\n",
    "import scipy.sparse\n",
    "import scipy.sparse.csgraph\n",
    "import pandas as pd\n",
    "import collections\n",
    "import matplotlib.pyplot as plt"
   ]
  },
  {
   "cell_type": "markdown",
   "metadata": {},
   "source": [
    "## General info"
   ]
  },
  {
   "cell_type": "code",
   "execution_count": 3,
   "metadata": {},
   "outputs": [
    {
     "name": "stdout",
     "output_type": "stream",
     "text": [
      "count    7162.000000\n",
      "mean       14.689404\n",
      "std        17.510375\n",
      "min         0.591086\n",
      "25%         5.513821\n",
      "50%        10.120634\n",
      "75%        17.364376\n",
      "max       202.114129\n",
      "Name: length, dtype: float64\n"
     ]
    }
   ],
   "source": [
    "graph = graph.to_undirected()\n",
    "pandasel = nx.to_pandas_edgelist(graph)\n",
    "print(pandasel.length.describe())"
   ]
  },
  {
   "cell_type": "code",
   "execution_count": 4,
   "metadata": {},
   "outputs": [
    {
     "name": "stdout",
     "output_type": "stream",
     "text": [
      "Name: unnamed\n",
      "Type: MultiGraph\n",
      "Number of nodes: 5014\n",
      "Number of edges: 7162\n",
      "Average degree:   2.8568\n"
     ]
    }
   ],
   "source": [
    "print(nx.info(graph))\n",
    "graph = graph.to_directed() # Some analyzing tasks hate if the graph is undirected."
   ]
  },
  {
   "cell_type": "code",
   "execution_count": 5,
   "metadata": {},
   "outputs": [
    {
     "data": {
      "text/plain": [
       "{'n': 5014,\n",
       " 'm': 14324,\n",
       " 'k_avg': 5.7136019146390105,\n",
       " 'intersection_count': 4813,\n",
       " 'streets_per_node_avg': 2.8568009573195052,\n",
       " 'streets_per_node_counts': {0: 0,\n",
       "  1: 201,\n",
       "  2: 2649,\n",
       "  3: 1156,\n",
       "  4: 492,\n",
       "  5: 225,\n",
       "  6: 101,\n",
       "  7: 73,\n",
       "  8: 37,\n",
       "  9: 32,\n",
       "  10: 14,\n",
       "  11: 7,\n",
       "  12: 14,\n",
       "  13: 7,\n",
       "  14: 3,\n",
       "  15: 3},\n",
       " 'streets_per_node_proportion': {0: 0.0,\n",
       "  1: 0.04008775428799362,\n",
       "  2: 0.5283207020343039,\n",
       "  3: 0.23055444754686877,\n",
       "  4: 0.09812524930195453,\n",
       "  5: 0.04487435181491823,\n",
       "  6: 0.02014359792580774,\n",
       "  7: 0.014559234144395692,\n",
       "  8: 0.007379337854008776,\n",
       "  9: 0.006382130035899481,\n",
       "  10: 0.002792181890706023,\n",
       "  11: 0.0013960909453530116,\n",
       "  12: 0.002792181890706023,\n",
       "  13: 0.0013960909453530116,\n",
       "  14: 0.0005983246908655763,\n",
       "  15: 0.0005983246908655763},\n",
       " 'edge_length_total': 210411.0277007943,\n",
       " 'edge_length_avg': 14.689404335436631,\n",
       " 'street_length_total': 105205.51385039769,\n",
       " 'street_length_avg': 14.689404335436707,\n",
       " 'street_segments_count': 7162,\n",
       " 'node_density_km': None,\n",
       " 'intersection_density_km': None,\n",
       " 'edge_density_km': None,\n",
       " 'street_density_km': None,\n",
       " 'circuity_avg': 0.0009999999686077948,\n",
       " 'self_loop_proportion': 0.0,\n",
       " 'clean_intersection_count': None,\n",
       " 'clean_intersection_density_km': None}"
      ]
     },
     "execution_count": 5,
     "metadata": {},
     "output_type": "execute_result"
    }
   ],
   "source": [
    "ox.basic_stats(graph)"
   ]
  },
  {
   "cell_type": "code",
   "execution_count": 6,
   "metadata": {},
   "outputs": [],
   "source": [
    "extended_graph_stats = ox.extended_stats(graph)"
   ]
  },
  {
   "cell_type": "code",
   "execution_count": 7,
   "metadata": {},
   "outputs": [
    {
     "name": "stdout",
     "output_type": "stream",
     "text": [
      "dict_keys(['avg_neighbor_degree', 'avg_neighbor_degree_avg', 'avg_weighted_neighbor_degree', 'avg_weighted_neighbor_degree_avg', 'degree_centrality', 'degree_centrality_avg', 'clustering_coefficient', 'clustering_coefficient_avg', 'clustering_coefficient_weighted', 'clustering_coefficient_weighted_avg', 'pagerank', 'pagerank_max_node', 'pagerank_max', 'pagerank_min_node', 'pagerank_min'])\n"
     ]
    }
   ],
   "source": [
    "print(extended_graph_stats.keys())"
   ]
  },
  {
   "cell_type": "code",
   "execution_count": 29,
   "metadata": {},
   "outputs": [
    {
     "name": "stdout",
     "output_type": "stream",
     "text": [
      "               0  avg_neighbor_degree  avg_weighted_neighbor_degree  \\\n",
      "0      306068527             3.500000                      0.276817   \n",
      "1     3197892918             7.000000                      1.097788   \n",
      "2      252086216             4.000000                      0.261663   \n",
      "3     5720557910             2.000000                      0.142756   \n",
      "4      273771068             3.666667                      0.173360   \n",
      "...          ...                  ...                           ...   \n",
      "5009  2659070273             4.500000                      0.444918   \n",
      "5010  1037851022             2.666667                      0.413014   \n",
      "5011  1032106117             3.000000                      0.364268   \n",
      "5012  1264749334             3.000000                      0.991077   \n",
      "5013   148503389             2.000000                      0.154184   \n",
      "\n",
      "      clustering_coefficient  clustering_coefficient_weighted  \n",
      "0                   0.000000                         0.000000  \n",
      "1                   0.678571                         0.021516  \n",
      "2                   0.333333                         0.022772  \n",
      "3                   0.000000                         0.000000  \n",
      "4                   0.333333                         0.023174  \n",
      "...                      ...                              ...  \n",
      "5009                1.000000                         0.048475  \n",
      "5010                0.333333                         0.008012  \n",
      "5011                0.333333                         0.010376  \n",
      "5012                1.000000                         0.017079  \n",
      "5013                0.000000                         0.000000  \n",
      "\n",
      "[5014 rows x 5 columns]\n"
     ]
    }
   ],
   "source": [
    "df = pd.DataFrame(graph.nodes())\n",
    "df['avg_neighbor_degree'] = extended_graph_stats['avg_neighbor_degree'].values()\n",
    "df['avg_weighted_neighbor_degree'] = extended_graph_stats['avg_weighted_neighbor_degree'].values()\n",
    "df['avg_neighbor_degree'] = extended_graph_stats['avg_neighbor_degree'].values()\n",
    "df['clustering_coefficient'] = extended_graph_stats['clustering_coefficient'].values()\n",
    "df['clustering_coefficient_weighted'] = extended_graph_stats['clustering_coefficient_weighted'].values()\n",
    "print(df)"
   ]
  }
 ],
 "metadata": {
  "kernelspec": {
   "display_name": "Python 3",
   "language": "python",
   "name": "python3"
  },
  "language_info": {
   "codemirror_mode": {
    "name": "ipython",
    "version": 3
   },
   "file_extension": ".py",
   "mimetype": "text/x-python",
   "name": "python",
   "nbconvert_exporter": "python",
   "pygments_lexer": "ipython3",
   "version": "3.8.1"
  }
 },
 "nbformat": 4,
 "nbformat_minor": 2
}
